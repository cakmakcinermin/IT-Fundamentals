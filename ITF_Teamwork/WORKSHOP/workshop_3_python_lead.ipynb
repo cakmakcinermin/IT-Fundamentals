{
  "nbformat": 4,
  "nbformat_minor": 0,
  "metadata": {
    "kernelspec": {
      "display_name": "Python 3",
      "language": "python",
      "name": "python3"
    },
    "language_info": {
      "codemirror_mode": {
        "name": "ipython",
        "version": 3
      },
      "file_extension": ".py",
      "mimetype": "text/x-python",
      "name": "python",
      "nbconvert_exporter": "python",
      "pygments_lexer": "ipython3",
      "version": "3.7.3"
    },
    "colab": {
      "name": "workshop-3_python_lead.ipynb",
      "provenance": [],
      "collapsed_sections": []
    }
  },
  "cells": [
    {
      "cell_type": "markdown",
      "metadata": {
        "id": "uCIakXp44Gnv"
      },
      "source": [
        "<center><img src=\"https://github.com/aaron-clarusway/fullstack/blob/master/itf-logo.png?raw=true\"  alt=\"alt text\" width=\"200\"/></center>\n",
        "<br>\n",
        "<h1><p style=\"text-align: center; color:darkblue\">Python Basic</p><h1>\n",
        "<center><h1>Workshop - 3</h1></center>\n",
        "<p><img align=\"right\"\n",
        "  src=\"https://secure.meetupstatic.com/photos/event/3/1/b/9/600_488352729.jpeg\"  width=\"15px\"></p>\n",
        "<br>\n",
        "\n",
        "\n",
        "# Subject: Collections - Control Flow Statements"
      ]
    },
    {
      "cell_type": "markdown",
      "metadata": {
        "id": "uoqZzJt14Gn2"
      },
      "source": [
        "## Coding Challenge-1 : Find the Largest Number\n",
        "\n",
        "Purpose of the this coding challenge is to solve a simple sorting problem in Python.\n",
        "\n",
        "### Learning Outcomes\n",
        "\n",
        "At the end of the this coding challenge, students will be able to;\n",
        "\n",
        "- get a basic understanding of sorting algorithms.\n",
        "- demonstrate their knowledge of lists in python\n",
        "- implement loops to solve the problems in python\n",
        "- get a better understanding of computational thinking concepts\n",
        "\n",
        "### Problem Statement\n",
        "  \n",
        "- Write a python code that finds the largest number among the ``n`` numbers given by the user as input.\n",
        "\n",
        "- First, take `n` from the user, then take `n` numbers one by one and select-print the largest one.\n",
        "\n",
        "- It is forbidden to use ``max()`` function.  \n",
        "\n",
        "- Indicate which computational thinking concepts have you used.\n",
        "\n",
        "- Example for user inputs and respective outputs\n",
        "\n",
        "```text\n",
        "Input                Output\n",
        "---------------:     -------------------------:\n",
        "n = 5, 1 2 3 4 5     The largest number is:  5\n",
        "n = 3, 67 85 19      The largest number is:  85\n",
        "```"
      ]
    },
    {
      "cell_type": "markdown",
      "metadata": {
        "id": "vWmE2R-94Gn4"
      },
      "source": [
        "### Solution :"
      ]
    },
    {
      "cell_type": "code",
      "metadata": {
        "id": "jq-bsYbd4Gn5"
      },
      "source": [
        "count=0\n",
        "array=[]\n",
        "size = int(input(\"How many numbers will you enter? \"))\n",
        "while count < size:\n",
        "    number= int(input('Please enter the number: '))\n",
        "    array.append(number)\n",
        "    count = count +1\n",
        "\n",
        "largest = array[0]\n",
        "for i in array:\n",
        "    if i > largest:\n",
        "        largest = i\n",
        "\n",
        "print(\"The largest number is : \", largest)"
      ],
      "execution_count": null,
      "outputs": []
    },
    {
      "cell_type": "code",
      "metadata": {
        "id": "dM6UAUKr5o1c"
      },
      "source": [
        "size = int(input(\"How many numbers will you enter? \"))\n",
        "maxelement = int(input(\"give me first number: \"))\n",
        "for i in range(size-1):\n",
        "  current= int(input(\"enter your number: \"))\n",
        "  if current > maxelement:\n",
        "        maxelement = current\n",
        "print(maxelement)\n"
      ],
      "execution_count": null,
      "outputs": []
    },
    {
      "cell_type": "markdown",
      "metadata": {
        "id": "Ip2j2rCC4Gn8"
      },
      "source": [
        "## Coding Challenge-2 : Group Anagrams\n",
        "\n",
        "Purpose of the this coding challenge is to solve a grouping algorithm in Python.\n",
        "\n",
        "### Learning Outcomes\n",
        "\n",
        "At the end of the this coding challenge, students will be able to;\n",
        "\n",
        "- get a basic understanding of grouping algorithms.\n",
        "- demonstrate their knowledge of lists, dicts in python\n",
        "- implement loops to solve the problems in python\n",
        "- get a better understanding of computational thinking concepts\n",
        "\n",
        "### Problem Statement\n",
        "  \n",
        "- Given a list of strings, group anagrams together.\n",
        "\n",
        "- Example:\n",
        "\n",
        "**Input:**\n",
        "```\n",
        "[\"eat\", \"tea\", \"tan\", \"ate\", \"nat\", \"bat\"],\n",
        "Output:\n",
        "[\n",
        "  [\"ate\",\"eat\",\"tea\"],\n",
        "  [\"nat\",\"tan\"],\n",
        "  [\"bat\"]\n",
        "]\n",
        "```\n",
        "Note:\n",
        "All inputs will be in lowercase.\n",
        "The order of your output does not matter."
      ]
    },
    {
      "cell_type": "markdown",
      "metadata": {
        "id": "RTc8AGDx4Gn9"
      },
      "source": [
        "### Solution :"
      ]
    },
    {
      "cell_type": "code",
      "metadata": {
        "colab": {
          "base_uri": "https://localhost:8080/"
        },
        "id": "cA9id3Sj4Gn-",
        "outputId": "a55f7187-210c-47b1-f8bd-47ec76d8f64d"
      },
      "source": [
        "strs = [\"eat\", \"tea\", \"tan\", \"ate\", \"nat\", \"bat\", \"cat\", \"tac\"]\n",
        "anag = {}\n",
        "for i in strs:\n",
        "    element = \"\".join(sorted(i))\n",
        "    if element in anag:\n",
        "        anag[element].append(i)\n",
        "    else:\n",
        "        anag[element] = [i]\n",
        "print(list(anag.values()))"
      ],
      "execution_count": null,
      "outputs": [
        {
          "output_type": "stream",
          "name": "stdout",
          "text": [
            "[['eat', 'tea', 'ate'], ['tan', 'nat'], ['bat'], ['cat', 'tac']]\n"
          ]
        }
      ]
    },
    {
      "cell_type": "code",
      "metadata": {
        "id": "QoH-I8YY8KNq",
        "colab": {
          "base_uri": "https://localhost:8080/"
        },
        "outputId": "2c242ccd-ade3-4c21-8db8-c2d4696d440a"
      },
      "source": [
        "strs = [\"eat\", \"tea\", \"tan\", \"ate\", \"nat\", \"bat\", \"cat\", \"tac\"]\n",
        "anag = {}\n",
        "for i in strs:\n",
        "    element = \"\".join(sorted(i))\n",
        "    if element in anag:\n",
        "        anag[element].append(i)\n",
        "    else:\n",
        "        anag[element] = [i]\n",
        "print(list(anag.values()))"
      ],
      "execution_count": 2,
      "outputs": [
        {
          "output_type": "stream",
          "name": "stdout",
          "text": [
            "[['eat', 'tea', 'ate'], ['tan', 'nat'], ['bat'], ['cat', 'tac']]\n"
          ]
        }
      ]
    },
    {
      "cell_type": "code",
      "metadata": {
        "colab": {
          "base_uri": "https://localhost:8080/"
        },
        "id": "N5qsaDVFJCVG",
        "outputId": "08a12bcb-6f6e-4e5a-a514-9c030bcfbfaf"
      },
      "source": [
        "strs = [\"eat\", \"tea\", \"tan\", \"ate\", \"nat\", \"bat\", \"cat\", \"tac\"]\n",
        "anag = {}\n",
        "for i in strs:\n",
        "    element = \"\".join(sorted(i))\n",
        "    if element not in anag:\n",
        "        anag[element] = []\n",
        "    anag[element].append(i)\n",
        "            \n",
        "print(list(anag.values()))"
      ],
      "execution_count": 3,
      "outputs": [
        {
          "output_type": "stream",
          "name": "stdout",
          "text": [
            "[['eat', 'tea', 'ate'], ['tan', 'nat'], ['bat'], ['cat', 'tac']]\n"
          ]
        }
      ]
    },
    {
      "cell_type": "markdown",
      "metadata": {
        "id": "KgCNthk34GoA"
      },
      "source": [
        "## Coding Challenge - 3: \n",
        "\n",
        "## *** This is an optional question - You don't have to solve this ***\n",
        "\n",
        "Calculating the Amount of Water to be Trapped on Terrain\n",
        "\n",
        "The purpose of this coding challenge is to write a program that calculates the amount of water that can be contained within the generated holes.\n",
        "\n",
        "### Learning Outcomes\n",
        "\n",
        "At the end of this coding challenge, students will be able to;\n",
        "\n",
        "- analyze a problem, identify, and apply programming knowledge for appropriate solution.\n",
        "\n",
        "- design, implement `while` loops effectively in Python to solve the given problem.\n",
        "\n",
        "- control loops effectively by using `if` and `control` statements.\n",
        "\n",
        "- demonstrate their knowledge of algorithmic design principles by using solving the problem effectively.\n",
        "\n",
        "### Problem Statement\n",
        "\n",
        "- Given an array of non-negative integers representing an elevation map as shown below where the width of each bar is 1, compute how much water will be trapped on terrain after raining. To clarify further, the black boxes represents terrain and its height, and the blue boxes represents the water that could be trapped on the terrain.\n",
        "\n",
        "<center><img src=\"https://raw.githubusercontent.com/andrewfade/myprojects/main/image.png\" /></center>\n",
        "\n",
        "- User can enter as many numbers as they want to represent elevation of the terrain.\n",
        "\n",
        "- You can assume all the inputs are valid, thus you don't have to do an input check.\n",
        "\n",
        "- At the end of the program write a comment that indicates which computational thinking heuristics you have used and how you used them.\n",
        "\n",
        "- Example of user inputs and respective outputs.\n",
        "\n",
        "```text\n",
        "Inputs\n",
        "------------------------------\n",
        "Type 'ok' when you are done: 5\n",
        "Type 'ok' when you are done: 4\n",
        "Type 'ok' when you are done: 5\n",
        "Type 'ok' when you are done: ok\n",
        "\n",
        "Output\n",
        "------\n",
        "1\n",
        "\n",
        "Inputs\n",
        "------------------------------\n",
        "Type 'ok' when you are done: 2\n",
        "Type 'ok' when you are done: 1\n",
        "Type 'ok' when you are done: 2\n",
        "Type 'ok' when you are done: 3\n",
        "Type 'ok' when you are done: 2\n",
        "Type 'ok' when you are done: 3\n",
        "Type 'ok' when you are done: ok\n",
        "\n",
        "Output\n",
        "------\n",
        "2\n",
        "\n",
        "Inputs\n",
        "------------------------------\n",
        "Type 'ok' when you are done: 6\n",
        "Type 'ok' when you are done: 5\n",
        "Type 'ok' when you are done: 8\n",
        "Type 'ok' when you are done: 9\n",
        "Type 'ok' when you are done: 2\n",
        "Type 'ok' when you are done: 4\n",
        "Type 'ok' when you are done: 3\n",
        "Type 'ok' when you are done: 6\n",
        "Type 'ok' when you are done: ok\n",
        "\n",
        "Output\n",
        "------\n",
        "10\n",
        "```"
      ]
    },
    {
      "cell_type": "markdown",
      "metadata": {
        "id": "X_Zwtc6Z4GoD"
      },
      "source": [
        "### Solution :"
      ]
    },
    {
      "cell_type": "code",
      "metadata": {
        "id": "1zBismmA4GoF",
        "outputId": "824323fb-e3d0-4029-9f2a-3c842fce0dc0"
      },
      "source": [
        "# initialize the list of an integer array representing the elevation, and set it to empty\n",
        "# yüksekliği temsil eden bir tamsayı dizisinin listesini başlatın ve onu boş olarak ayarlayın\n",
        "height = []\n",
        "# Unless user types `ok`, get input of numbers from the user\n",
        "# Kullanıcı \"ok\" yazmadıkça, kullanıcıdan sayıların girişini alın\n",
        "while True:\n",
        "    num = input(\"Type 'ok' when you are done: \")\n",
        "    # if the input is not equal to `ok`, add the input number to the height array\n",
        "    # giriş \"ok\" değerine eşit değilse, giriş numarasını yükseklik dizisine ekleyin\n",
        "    if num != \"ok\":\n",
        "        height.append(int(num))\n",
        "    # if the input equals to `ok`, get out of the while loop\n",
        "    # giriş \"ok\" ise, while döngüsünden çık\n",
        "    else:\n",
        "        break\n",
        "# initialize areas which holds total amount of water to be trapped, and set to 0\n",
        "# hapsedilecek toplam su miktarını tutan alanları başlat ve 0'a ayarla\n",
        "areas = 0\n",
        "# initialize maximum left and right, and set to 0\n",
        "# maksimum sol ve sağı başlat ve 0'a ayarla\n",
        "max_l = max_r = 0\n",
        "# initialize left, and set to 0\n",
        "# sola başlat ve 0'a ayarla\n",
        "l = 0\n",
        "# initialize right and set to the last index of the input array\n",
        "# sağa başlat ve giriş dizisinin son dizinine ayarla\n",
        "r = len(height)-1\n",
        "# unless the current position of the height on left\n",
        "# yüksekliğin mevcut konumu solda olmadıkça\n",
        "# is not greater than the one on right, run the loop\n",
        "# sağdakinden daha büyük değil, döngüyü çalıştırın\n",
        "\n",
        "while l < r:\n",
        "    # if the current position on left is lower than the right,\n",
        "    # max level on left determines the amount of water to be trapped.\n",
        "    # soldaki mevcut konum sağdan daha düşükse, soldaki maksimum seviye, tutulacak su miktarını belirler.\n",
        "    if height[l] < height[r]:\n",
        "        # if the current height on left is greater than max height on left\n",
        "        # then the water not to be trapped, and set the max height to the new max\n",
        "        # soldaki mevcut yükseklik, soldaki maksimum yükseklikten büyükse, su sıkışmaz ve maksimum yüksekliği yeni maksimuma ayarlayın\n",
        "        if height[l] > max_l:\n",
        "            max_l = height[l]\n",
        "        # otherwise, add the amount of water to be trapped.\n",
        "        # aksi takdirde, tutulacak su miktarını ekleyin.\n",
        "        else:\n",
        "            areas += max_l - height[l]\n",
        "        # increase current position on left by one\n",
        "        # soldaki mevcut konumu bir artır\n",
        "        l += 1\n",
        "    # if the current position on left is higher than the right,\n",
        "    # max level on right determines the amount of water to be trapped.\n",
        "    # soldaki mevcut konum sağdan daha yüksekse, sağdaki maksimum seviye, tutulacak su miktarını belirler.\n",
        "    else:\n",
        "        # if the current height on right is greater than max height on height\n",
        "        # then the water not to be trapped, and set the max height to the new max\n",
        "        # sağdaki mevcut yükseklik, yükseklikteki maksimum yükseklikten büyükse, su sıkışmaz ve maksimum yüksekliği yeni maksimuma ayarlayın\n",
        "        if height[r] > max_r:\n",
        "            max_r = height[r]\n",
        "        # otherwise, add the amount of water to be trapped.\n",
        "        # aksi takdirde, tutulacak su miktarını ekleyin.\n",
        "        else:\n",
        "            areas += max_r - height[r]\n",
        "        # decrease current position on right by one\n",
        "        # sağdaki mevcut konumu bir azalt\n",
        "        r -= 1\n",
        "# print the amount of water to be trapped\n",
        "print(\"\\nRain-trapped area : \", areas)"
      ],
      "execution_count": null,
      "outputs": [
        {
          "name": "stdout",
          "output_type": "stream",
          "text": [
            "Type 'ok' when you are done: 4\n",
            "Type 'ok' when you are done: 3\n",
            "Type 'ok' when you are done: 6\n",
            "Type 'ok' when you are done: 0\n",
            "Type 'ok' when you are done: 1\n",
            "Type 'ok' when you are done: 0\n",
            "Type 'ok' when you are done: 2\n",
            "Type 'ok' when you are done: ok\n",
            "\n",
            "Rain-trapped area :  6\n"
          ]
        }
      ]
    },
    {
      "cell_type": "code",
      "metadata": {
        "id": "vNbFgKq9B_Js"
      },
      "source": [
        ""
      ],
      "execution_count": null,
      "outputs": []
    }
  ]
}