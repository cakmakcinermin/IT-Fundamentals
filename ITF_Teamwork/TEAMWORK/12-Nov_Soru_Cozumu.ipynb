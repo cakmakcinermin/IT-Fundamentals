{
 "cells": [
  {
   "cell_type": "code",
   "execution_count": 11,
   "metadata": {},
   "outputs": [
    {
     "name": "stdout",
     "output_type": "stream",
     "text": [
      "I am Omer and I am 23 years old.\n",
      "I am Omer and I am 23 years old.\n",
      "I am Omer and I am 23 years old.\n",
      "I am Omer and I am 23 years old.\n"
     ]
    }
   ],
   "source": [
    "name = 'Omer'\n",
    "age = 23\n",
    "print('I am %s and I am %d years old.' % (name, age))\n",
    "print(f\"I am {name} and I am {age} years old.\")\n",
    "print(\"I am {} and I am {} years old.\".format(name,age))\n",
    "print(\"I am \" + name + \" and I am \" + str(age) + \" years old.\")\n",
    "\n",
    "\n"
   ]
  },
  {
   "cell_type": "code",
   "execution_count": 48,
   "metadata": {},
   "outputs": [
    {
     "data": {
      "text/plain": [
       "'11.03.1999'"
      ]
     },
     "execution_count": 48,
     "metadata": {},
     "output_type": "execute_result"
    }
   ],
   "source": [
    "liste = [\"11\",\"03\",\"1999\"]\n",
    "\".\".join(liste)"
   ]
  },
  {
   "cell_type": "code",
   "execution_count": 21,
   "metadata": {},
   "outputs": [
    {
     "name": "stdout",
     "output_type": "stream",
     "text": [
      "2\n"
     ]
    }
   ],
   "source": [
    "number_set = set()\n",
    "size = int(input(\"Kac sayi gireceksiniz : \"))\n",
    "for i in range(size): # 0 1 2 3 4\n",
    "    number = int(input(\"Sayinizi giriniz : \"))\n",
    "    number_set.add(number)\n",
    "number_list = list(number_set)\n",
    "number_list.sort()\n",
    "print(number_list[-2])"
   ]
  },
  {
   "cell_type": "code",
   "execution_count": 31,
   "metadata": {},
   "outputs": [
    {
     "data": {
      "text/plain": [
       "'abcd'"
      ]
     },
     "execution_count": 31,
     "metadata": {},
     "output_type": "execute_result"
    }
   ],
   "source": [
    "deneme_list = [3,2,1]\n",
    "\"\".join(sorted(\"dcba\"))\n"
   ]
  },
  {
   "cell_type": "code",
   "execution_count": 33,
   "metadata": {},
   "outputs": [
    {
     "name": "stdout",
     "output_type": "stream",
     "text": [
      "88.33333333333333\n"
     ]
    }
   ],
   "source": [
    "size = int(input(\"Kac kisi gireceksiniz : \"))\n",
    "students = []\n",
    "i = 0\n",
    "while i < size:\n",
    "    temp = input(\"Isim ve notlari giriniz : \") # 'omer 10 50 100'\n",
    "    student = temp.split() # ['omer', '10', '50', '100']\n",
    "    students.append(student)\n",
    "    i += 1\n",
    "# students -> [[ogrenci1, not1, not2, not3], [ogrenci2, not1, not2, not3] ...]\n",
    "kisi = input(\"Kimin ortalamasini ogrenmek istiyorsunuz : \")\n",
    "for student in students:\n",
    "    if student[0] == kisi:\n",
    "        ortalama = (float(student[1]) + float(student[2]) + float(student[3])) / 3\n",
    "        print(ortalama)\n"
   ]
  },
  {
   "cell_type": "code",
   "execution_count": 37,
   "metadata": {},
   "outputs": [
    {
     "name": "stdout",
     "output_type": "stream",
     "text": [
      "{'turker': [90, 90, 90], 'zeynep': [100, 95, 90]}\n",
      "95.0\n"
     ]
    }
   ],
   "source": [
    "size = int(input(\"Kac kisi gireceksiniz : \"))\n",
    "students = dict()\n",
    "a = 0\n",
    "while a < size:\n",
    "    temp = input(\"Isim ve notlari giriniz : \") # 'omer 10 50 100'\n",
    "    student = temp.split() # ['omer', '10', '50', '100']\n",
    "    notes = student[1:]\n",
    "    for i in range(3):\n",
    "        notes[i] = int(notes[i])\n",
    "    students[student[0]] = notes\n",
    "    a += 1\n",
    "print(students)    \n",
    "# students -> [[ogrenci1, not1, not2, not3], [ogrenci2, not1, not2, not3] ...]\n",
    "kisi = input(\"Kimin ortalamasini ogrenmek istiyorsunuz : \")\n",
    "ortalama = sum(students[kisi]) / 3\n",
    "print(ortalama)"
   ]
  },
  {
   "cell_type": "code",
   "execution_count": 47,
   "metadata": {},
   "outputs": [
    {
     "data": {
      "text/plain": [
       "['enes', 'hamza', 'zeynep']"
      ]
     },
     "execution_count": 47,
     "metadata": {},
     "output_type": "execute_result"
    }
   ],
   "source": [
    "size = int(input(\"Kac kisi gireceksiniz : \"))\n",
    "students = dict()\n",
    "a = 0\n",
    "while a < size:\n",
    "    temp = input(\"Isim ve notlari giriniz : \") # 'omer 10 50 100'\n",
    "    student = temp.split() # ['omer', '10', '50', '100']\n",
    "    notes = student[1:]\n",
    "    notes = list(map(int, notes))\n",
    "    students[student[0]] = notes\n",
    "    a += 1\n",
    "print(students)    \n",
    "# students -> [[ogrenci1, not1, not2, not3], [ogrenci2, not1, not2, not3] ...]\n",
    "kisi = input(\"Kimin ortalamasini ogrenmek istiyorsunuz : \")\n",
    "ortalama = sum(students[kisi]) / 3\n",
    "print(ortalama)"
   ]
  }
 ],
 "metadata": {
  "interpreter": {
   "hash": "63fd5069d213b44bf678585dea6b12cceca9941eaf7f819626cde1f2670de90d"
  },
  "kernelspec": {
   "display_name": "Python 3.9.5 64-bit",
   "language": "python",
   "name": "python3"
  },
  "language_info": {
   "codemirror_mode": {
    "name": "ipython",
    "version": 3
   },
   "file_extension": ".py",
   "mimetype": "text/x-python",
   "name": "python",
   "nbconvert_exporter": "python",
   "pygments_lexer": "ipython3",
   "version": "3.9.5"
  },
  "orig_nbformat": 4
 },
 "nbformat": 4,
 "nbformat_minor": 2
}
