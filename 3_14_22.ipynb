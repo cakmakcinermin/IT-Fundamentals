{
  "nbformat": 4,
  "nbformat_minor": 0,
  "metadata": {
    "colab": {
      "name": "3_14_22.ipynb",
      "provenance": [],
      "authorship_tag": "ABX9TyOlihSMjORoEUpSvXat6GBl",
      "include_colab_link": true
    },
    "kernelspec": {
      "name": "python3",
      "display_name": "Python 3"
    },
    "language_info": {
      "name": "python"
    }
  },
  "cells": [
    {
      "cell_type": "markdown",
      "metadata": {
        "id": "view-in-github",
        "colab_type": "text"
      },
      "source": [
        "<a href=\"https://colab.research.google.com/github/cakmakcinermin/IT-Fundamentals/blob/main/3_14_22.ipynb\" target=\"_parent\"><img src=\"https://colab.research.google.com/assets/colab-badge.svg\" alt=\"Open In Colab\"/></a>"
      ]
    },
    {
      "cell_type": "code",
      "execution_count": null,
      "metadata": {
        "id": "0XkKV9exUR2W"
      },
      "outputs": [],
      "source": [
        ""
      ]
    },
    {
      "cell_type": "markdown",
      "source": [
        "Boxing yarismasi oyunu:\n",
        "2 Player sirayla birbirlerine sirayla vurmaya basliyor. İlk baslayani kura ile belirliyorlar. Biri yikilana kadar oyun devam ediyor. Her yumrugun diger oyuncuyu yikma ihtimali 10%.\n",
        "\n",
        "Output:\n",
        "\n",
        "Fight!!!\n",
        "Player #2 hits\n",
        "Player #1 hits\n",
        "Player #2 hits\n",
        "...\n",
        "Player #1 hits and knocks out!\n",
        "Game over!!!"
      ],
      "metadata": {
        "id": "ywbWzB1AUTpw"
      }
    },
    {
      "cell_type": "code",
      "source": [
        "from random import choice\n",
        "\n",
        "numbers = []\n",
        "for i in range(101):\n",
        "    numbers.append(i)\n",
        "\n",
        "fighter1 = 0\n",
        "fighter2 = 0\n",
        "punch = 10\n",
        "\n",
        "list1 = [\"fighter1\", \"fighter2\"]\n",
        "c = choice(list1)\n",
        "\n",
        "\n",
        "fightend = False\n",
        "if c == \"fighter1\":\n",
        "    while fightend != True:\n",
        "        fighter1 += punch\n",
        "        print(\"fighter1 punch\")\n",
        "        a = choice(numbers)\n",
        "        \n",
        "        if a <= fighter1:\n",
        "            fightend = True\n",
        "            print(\"fighter1 wins\")\n",
        "        else:\n",
        "            fighter2 += punch\n",
        "            print(\"fighter2 punc"
      ],
      "metadata": {
        "id": "Uo5C5BEEUd0O"
      },
      "execution_count": null,
      "outputs": []
    }
  ]
}