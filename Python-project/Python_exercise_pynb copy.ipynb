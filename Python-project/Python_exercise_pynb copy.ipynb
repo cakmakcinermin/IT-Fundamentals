{
  "nbformat": 4,
  "nbformat_minor": 0,
  "metadata": {
    "colab": {
      "name": "Python_exercise.pynb",
      "provenance": [],
      "collapsed_sections": [],
      "authorship_tag": "ABX9TyP5L9CaiI43/hyWiff1+AH9",
      "include_colab_link": true
    },
    "kernelspec": {
      "name": "python3",
      "display_name": "Python 3"
    },
    "language_info": {
      "name": "python"
    }
  },
  "cells": [
    {
      "cell_type": "markdown",
      "metadata": {
        "id": "view-in-github",
        "colab_type": "text"
      },
      "source": [
        "<a href=\"https://colab.research.google.com/github/cakmakcinermin/IT-Fundamentals/blob/main/Python_exercise_pynb.ipynb\" target=\"_parent\"><img src=\"https://colab.research.google.com/assets/colab-badge.svg\" alt=\"Open In Colab\"/></a>"
      ]
    },
    {
      "cell_type": "code",
      "execution_count": null,
      "metadata": {
        "id": "vQnH2dzEtJoc"
      },
      "outputs": [],
      "source": [
        ""
      ]
    },
    {
      "cell_type": "markdown",
      "source": [
        "Q1: Try to find out if a number you get from the user is perfect.\n",
        " A number is called a \"perfect number\" if the sum of its divisors is equal to itself. For example, 6 is a perfect number. (1 + 2 + 3 = 6)"
      ],
      "metadata": {
        "id": "ju8uj25FtNMq"
      }
    },
    {
      "cell_type": "markdown",
      "source": [
        ""
      ],
      "metadata": {
        "id": "ccVh2habtTwR"
      }
    },
    {
      "cell_type": "code",
      "source": [
        "\n",
        "total = 0\n",
        "num = int(input(\"\"))\n",
        "for i in range(1,num) :\n",
        "  if num % i == 0 :\n",
        "    total += i\n",
        "if total == num :\n",
        "  print(\"{} is a perfect number.\".format(num))\n",
        "else:\n",
        "  print(\"{} is not a perfect number.\".format(num))"
      ],
      "metadata": {
        "colab": {
          "base_uri": "https://localhost:8080/"
        },
        "id": "OYIKyV4HtQED",
        "outputId": "ed09878e-2daf-4da6-e0cb-e19931ac5f3a"
      },
      "execution_count": null,
      "outputs": [
        {
          "output_type": "stream",
          "name": "stdout",
          "text": [
            "23\n",
            "23 is not a perfect number.\n"
          ]
        }
      ]
    },
    {
      "cell_type": "markdown",
      "source": [
        "Q2:In a small town the population is p0 = 1000 at the beginning of a year. The population regularly increases by 2 percent per year and moreover 50 new inhabitants per year come to live in the town. How many years does the town need to see its population greater or equal to p = 1200 inhabitants?"
      ],
      "metadata": {
        "id": "3UKirrgVwTL_"
      }
    },
    {
      "cell_type": "code",
      "source": [
        "population = 1000\n",
        "year = 0\n",
        "\n",
        "while population <= 1200 :\n",
        "  population += (population * 0.02) + 50\n",
        "  year += 1\n",
        "\n",
        "print(year)"
      ],
      "metadata": {
        "colab": {
          "base_uri": "https://localhost:8080/"
        },
        "id": "jxYWRNGkwZb6",
        "outputId": "f9df2100-6423-4cc1-8651-d7dcd4a6ada4"
      },
      "execution_count": null,
      "outputs": [
        {
          "output_type": "stream",
          "name": "stdout",
          "text": [
            "3\n"
          ]
        }
      ]
    },
    {
      "cell_type": "markdown",
      "source": [
        "Q3: Write a Python program to compute the greatest common divisor (GCD) of two positive integers"
      ],
      "metadata": {
        "id": "6LPqAla8-CRa"
      }
    },
    {
      "cell_type": "code",
      "source": [
        "num1 = int(input(\"please enter a number : \"))\n",
        "num2 = int(input(\"please enter a number : \"))\n",
        "if num1 > num2 :\n",
        "  bolen =  num2\n",
        "else:\n",
        "  bolen = num1\n",
        "for i in range(1,bolen+1):\n",
        "  if num1 % i == 0 and num2 % i == 0 :\n",
        "    total = i\n",
        "\n",
        "print(total)"
      ],
      "metadata": {
        "colab": {
          "base_uri": "https://localhost:8080/"
        },
        "id": "9N4J3cSZ98Bc",
        "outputId": "fb66e868-526a-4d35-9237-8344a81b7508"
      },
      "execution_count": 1,
      "outputs": [
        {
          "output_type": "stream",
          "name": "stdout",
          "text": [
            "please enter a number : 23\n",
            "please enter a number : 34\n",
            "1\n"
          ]
        }
      ]
    }
  ]
}