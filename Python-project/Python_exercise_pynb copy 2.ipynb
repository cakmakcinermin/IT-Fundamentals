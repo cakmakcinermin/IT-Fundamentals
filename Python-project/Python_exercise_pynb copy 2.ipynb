{
  "cells": [
    {
      "cell_type": "markdown",
      "metadata": {
        "colab_type": "text",
        "id": "view-in-github"
      },
      "source": [
        "<a href=\"https://colab.research.google.com/github/cakmakcinermin/IT-Fundamentals/blob/main/Python_exercise_pynb.ipynb\" target=\"_parent\"><img src=\"https://colab.research.google.com/assets/colab-badge.svg\" alt=\"Open In Colab\"/></a>"
      ]
    },
    {
      "cell_type": "code",
      "execution_count": null,
      "metadata": {
        "id": "vQnH2dzEtJoc"
      },
      "outputs": [],
      "source": []
    },
    {
      "cell_type": "markdown",
      "metadata": {
        "id": "ju8uj25FtNMq"
      },
      "source": [
        "Q1: Try to find out if a number you get from the user is perfect.\n",
        " A number is called a \"perfect number\" if the sum of its divisors is equal to itself. For example, 6 is a perfect number. (1 + 2 + 3 = 6)"
      ]
    },
    {
      "cell_type": "markdown",
      "metadata": {
        "id": "ccVh2habtTwR"
      },
      "source": []
    },
    {
      "cell_type": "code",
      "execution_count": null,
      "metadata": {
        "colab": {
          "base_uri": "https://localhost:8080/"
        },
        "id": "OYIKyV4HtQED",
        "outputId": "ed09878e-2daf-4da6-e0cb-e19931ac5f3a"
      },
      "outputs": [
        {
          "name": "stdout",
          "output_type": "stream",
          "text": [
            "23\n",
            "23 is not a perfect number.\n"
          ]
        }
      ],
      "source": [
        "\n",
        "total = 0\n",
        "num = int(input(\"\"))\n",
        "for i in range(1,num) :\n",
        "  if num % i == 0 :\n",
        "    total += i\n",
        "if total == num :\n",
        "  print(\"{} is a perfect number.\".format(num))\n",
        "else:\n",
        "  print(\"{} is not a perfect number.\".format(num))"
      ]
    },
    {
      "cell_type": "markdown",
      "metadata": {
        "id": "3UKirrgVwTL_"
      },
      "source": [
        "Q2:In a small town the population is p0 = 1000 at the beginning of a year. The population regularly increases by 2 percent per year and moreover 50 new inhabitants per year come to live in the town. How many years does the town need to see its population greater or equal to p = 1200 inhabitants?"
      ]
    },
    {
      "cell_type": "code",
      "execution_count": null,
      "metadata": {
        "colab": {
          "base_uri": "https://localhost:8080/"
        },
        "id": "jxYWRNGkwZb6",
        "outputId": "f9df2100-6423-4cc1-8651-d7dcd4a6ada4"
      },
      "outputs": [
        {
          "name": "stdout",
          "output_type": "stream",
          "text": [
            "3\n"
          ]
        }
      ],
      "source": [
        "population = 1000\n",
        "year = 0\n",
        "\n",
        "while population <= 1200 :\n",
        "  population += (population * 0.02) + 50\n",
        "  year += 1\n",
        "\n",
        "print(year)"
      ]
    },
    {
      "cell_type": "markdown",
      "metadata": {
        "id": "6LPqAla8-CRa"
      },
      "source": [
        "Q3: Write a Python program to compute the greatest common divisor (GCD) of two positive integers"
      ]
    },
    {
      "cell_type": "code",
      "execution_count": null,
      "metadata": {
        "colab": {
          "base_uri": "https://localhost:8080/"
        },
        "id": "9N4J3cSZ98Bc",
        "outputId": "fb66e868-526a-4d35-9237-8344a81b7508"
      },
      "outputs": [
        {
          "name": "stdout",
          "output_type": "stream",
          "text": [
            "please enter a number : 23\n",
            "please enter a number : 34\n",
            "1\n"
          ]
        }
      ],
      "source": [
        "num1 = int(input(\"please enter a number : \"))\n",
        "num2 = int(input(\"please enter a number : \"))\n",
        "if num1 > num2 :\n",
        "  bolen =  num2\n",
        "else:\n",
        "  bolen = num1\n",
        "for i in range(1,bolen+1):\n",
        "  if num1 % i == 0 and num2 % i == 0 :\n",
        "    total = i\n",
        "\n",
        "print(total)"
      ]
    },
    {
      "cell_type": "markdown",
      "metadata": {
        "id": "OJE3GwzZ9Gmf"
      },
      "source": [
        "Q4: Try to find out if a number you get from the user is perfect.\n",
        "A number is called a \"perfect number\" if the sum of its divisors is equal to itself. For example, 6 is a perfect number. (1 + 2 + 3 = 6)\n"
      ]
    },
    {
      "cell_type": "code",
      "execution_count": null,
      "metadata": {
        "colab": {
          "base_uri": "https://localhost:8080/"
        },
        "id": "oPEsTFF99Jy4",
        "outputId": "11448281-f5e6-4e8b-d260-78c824690bc2"
      },
      "outputs": [
        {
          "name": "stdout",
          "output_type": "stream",
          "text": [
            "66\n",
            "66 is not a perfect number.\n"
          ]
        }
      ],
      "source": [
        "total = 0\n",
        "num = int(input(\"\"))\n",
        "for i in range(1,num) :\n",
        "  if num % i == 0 :\n",
        "    total += i\n",
        "if total == num :\n",
        "  print(\"{} is a perfect number.\".format(num))\n",
        "else:\n",
        "  print(\"{} is not a perfect number.\".format(num))"
      ]
    },
    {
      "cell_type": "code",
      "execution_count": 3,
      "metadata": {},
      "outputs": [
        {
          "name": "stdout",
          "output_type": "stream",
          "text": [
            "{3, 1, 2, 11}\n"
          ]
        }
      ],
      "source": [
        "num1 = int(input(\"please enter first number :\"))\n",
        "num2 = int(input(\"please enter second number :\"))\n",
        "toplam = []\n",
        "\n",
        "for i in range(1,num1+1) :\n",
        "  if num1 % i == 0:\n",
        "    toplam += [i]\n",
        "    num1 = num1 // i\n",
        "for j in range(1,num2+1) :\n",
        "  if num2 % j == 0:\n",
        "    toplam += [j]\n",
        "    num2 = num2 // j\n",
        "print(set(toplam))"
      ]
    },
    {
      "cell_type": "code",
      "execution_count": 6,
      "metadata": {},
      "outputs": [
        {
          "name": "stdout",
          "output_type": "stream",
          "text": [
            "17\n"
          ]
        }
      ],
      "source": [
        "# Write a Python program to sum of two given integers. However, if the sum is between 15 to 20 it will return**\n",
        "\n",
        "while True:\n",
        "  num =list(map(int, input(\"\").split()))\n",
        "  if 20 > sum(num) > 15 :\n",
        "    print(sum(num))\n",
        "    break\n",
        "  else:\n",
        "    print(\"Please enter different nums :\")"
      ]
    }
  ],
  "metadata": {
    "colab": {
      "authorship_tag": "ABX9TyMf6DjtXTBtyTrnryb0tBcA",
      "collapsed_sections": [],
      "include_colab_link": true,
      "name": "Python_exercise.pynb",
      "provenance": []
    },
    "kernelspec": {
      "display_name": "Python 3",
      "name": "python3"
    },
    "language_info": {
      "codemirror_mode": {
        "name": "ipython",
        "version": 3
      },
      "file_extension": ".py",
      "mimetype": "text/x-python",
      "name": "python",
      "nbconvert_exporter": "python",
      "pygments_lexer": "ipython3",
      "version": "3.10.2"
    }
  },
  "nbformat": 4,
  "nbformat_minor": 0
}
