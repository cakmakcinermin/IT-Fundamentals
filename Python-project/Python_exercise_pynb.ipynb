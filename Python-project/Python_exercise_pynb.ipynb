{
  "nbformat": 4,
  "nbformat_minor": 0,
  "metadata": {
    "colab": {
      "name": "Python_exercise.pynb",
      "provenance": [],
      "authorship_tag": "ABX9TyNHeBrls4veQFIp74RC20YZ",
      "include_colab_link": true
    },
    "kernelspec": {
      "name": "python3",
      "display_name": "Python 3"
    },
    "language_info": {
      "name": "python"
    }
  },
  "cells": [
    {
      "cell_type": "markdown",
      "metadata": {
        "id": "view-in-github",
        "colab_type": "text"
      },
      "source": [
        "<a href=\"https://colab.research.google.com/github/cakmakcinermin/IT-Fundamentals/blob/main/Python_exercise_pynb.ipynb\" target=\"_parent\"><img src=\"https://colab.research.google.com/assets/colab-badge.svg\" alt=\"Open In Colab\"/></a>"
      ]
    },
    {
      "cell_type": "code",
      "execution_count": null,
      "metadata": {
        "id": "vQnH2dzEtJoc"
      },
      "outputs": [],
      "source": [
        ""
      ]
    },
    {
      "cell_type": "markdown",
      "source": [
        "Q1: Try to find out if a number you get from the user is perfect.\n",
        " A number is called a \"perfect number\" if the sum of its divisors is equal to itself. For example, 6 is a perfect number. (1 + 2 + 3 = 6)"
      ],
      "metadata": {
        "id": "ju8uj25FtNMq"
      }
    },
    {
      "cell_type": "markdown",
      "source": [
        ""
      ],
      "metadata": {
        "id": "ccVh2habtTwR"
      }
    },
    {
      "cell_type": "code",
      "source": [
        "\n",
        "total = 0\n",
        "num = int(input(\"\"))\n",
        "for i in range(1,num) :\n",
        "  if num % i == 0 :\n",
        "    total += i\n",
        "if total == num :\n",
        "  print(\"{} is a perfect number.\".format(num))\n",
        "else:\n",
        "  print(\"{} is not a perfect number.\".format(num))"
      ],
      "metadata": {
        "colab": {
          "base_uri": "https://localhost:8080/"
        },
        "id": "OYIKyV4HtQED",
        "outputId": "ed09878e-2daf-4da6-e0cb-e19931ac5f3a"
      },
      "execution_count": 1,
      "outputs": [
        {
          "output_type": "stream",
          "name": "stdout",
          "text": [
            "23\n",
            "23 is not a perfect number.\n"
          ]
        }
      ]
    }
  ]
}